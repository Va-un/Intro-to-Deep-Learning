{
 "cells": [
  {
   "cell_type": "markdown",
   "id": "36b68d47",
   "metadata": {
    "papermill": {
     "duration": 0.00638,
     "end_time": "2023-08-14T08:54:46.602521",
     "exception": false,
     "start_time": "2023-08-14T08:54:46.596141",
     "status": "completed"
    },
    "tags": []
   },
   "source": [
    "**This notebook is an exercise in the [Intro to Deep Learning](https://www.kaggle.com/learn/intro-to-deep-learning) course.  You can reference the tutorial at [this link](https://www.kaggle.com/ryanholbrook/overfitting-and-underfitting).**\n",
    "\n",
    "---\n"
   ]
  },
  {
   "cell_type": "markdown",
   "id": "12286630",
   "metadata": {
    "papermill": {
     "duration": 0.005531,
     "end_time": "2023-08-14T08:54:46.614090",
     "exception": false,
     "start_time": "2023-08-14T08:54:46.608559",
     "status": "completed"
    },
    "tags": []
   },
   "source": [
    "# Introduction #\n",
    "\n",
    "In this exercise, you’ll learn how to improve training outcomes by including an early stopping callback to prevent overfitting.\n",
    "\n",
    "When you're ready, run this next cell to set everything up!"
   ]
  },
  {
   "cell_type": "code",
   "execution_count": 1,
   "id": "a88f06c5",
   "metadata": {
    "execution": {
     "iopub.execute_input": "2023-08-14T08:54:46.627543Z",
     "iopub.status.busy": "2023-08-14T08:54:46.627098Z",
     "iopub.status.idle": "2023-08-14T08:54:46.672144Z",
     "shell.execute_reply": "2023-08-14T08:54:46.671135Z"
    },
    "papermill": {
     "duration": 0.055002,
     "end_time": "2023-08-14T08:54:46.674769",
     "exception": false,
     "start_time": "2023-08-14T08:54:46.619767",
     "status": "completed"
    },
    "tags": []
   },
   "outputs": [
    {
     "name": "stderr",
     "output_type": "stream",
     "text": [
      "/tmp/ipykernel_23/1500229236.py:3: MatplotlibDeprecationWarning: The seaborn styles shipped by Matplotlib are deprecated since 3.6, as they no longer correspond to the styles shipped by seaborn. However, they will remain available as 'seaborn-v0_8-<style>'. Alternatively, directly use the seaborn API instead.\n",
      "  plt.style.use('seaborn-whitegrid')\n"
     ]
    }
   ],
   "source": [
    "# Setup plotting\n",
    "import matplotlib.pyplot as plt\n",
    "plt.style.use('seaborn-whitegrid')\n",
    "# Set Matplotlib defaults\n",
    "plt.rc('figure', autolayout=True)\n",
    "plt.rc('axes', labelweight='bold', labelsize='large',\n",
    "       titleweight='bold', titlesize=18, titlepad=10)\n",
    "plt.rc('animation', html='html5')\n",
    "\n",
    "# Setup feedback system\n",
    "from learntools.core import binder\n",
    "binder.bind(globals())\n",
    "from learntools.deep_learning_intro.ex4 import *"
   ]
  },
  {
   "cell_type": "markdown",
   "id": "1cdd37a4",
   "metadata": {
    "papermill": {
     "duration": 0.005601,
     "end_time": "2023-08-14T08:54:46.686119",
     "exception": false,
     "start_time": "2023-08-14T08:54:46.680518",
     "status": "completed"
    },
    "tags": []
   },
   "source": [
    "First load the *Spotify* dataset. Your task will be to predict the popularity of a song based on various audio features, like `'tempo'`, `'danceability'`, and `'mode'`."
   ]
  },
  {
   "cell_type": "code",
   "execution_count": 2,
   "id": "43cee647",
   "metadata": {
    "execution": {
     "iopub.execute_input": "2023-08-14T08:54:46.699786Z",
     "iopub.status.busy": "2023-08-14T08:54:46.699127Z",
     "iopub.status.idle": "2023-08-14T08:54:55.880572Z",
     "shell.execute_reply": "2023-08-14T08:54:55.879589Z"
    },
    "papermill": {
     "duration": 9.190973,
     "end_time": "2023-08-14T08:54:55.883014",
     "exception": false,
     "start_time": "2023-08-14T08:54:46.692041",
     "status": "completed"
    },
    "tags": []
   },
   "outputs": [
    {
     "name": "stderr",
     "output_type": "stream",
     "text": [
      "/opt/conda/lib/python3.10/site-packages/scipy/__init__.py:146: UserWarning: A NumPy version >=1.16.5 and <1.23.0 is required for this version of SciPy (detected version 1.23.5\n",
      "  warnings.warn(f\"A NumPy version >={np_minversion} and <{np_maxversion}\"\n",
      "/opt/conda/lib/python3.10/site-packages/tensorflow_io/python/ops/__init__.py:98: UserWarning: unable to load libtensorflow_io_plugins.so: unable to open file: libtensorflow_io_plugins.so, from paths: ['/opt/conda/lib/python3.10/site-packages/tensorflow_io/python/ops/libtensorflow_io_plugins.so']\n",
      "caused by: ['/opt/conda/lib/python3.10/site-packages/tensorflow_io/python/ops/libtensorflow_io_plugins.so: undefined symbol: _ZN3tsl6StatusC1EN10tensorflow5error4CodeESt17basic_string_viewIcSt11char_traitsIcEENS_14SourceLocationE']\n",
      "  warnings.warn(f\"unable to load libtensorflow_io_plugins.so: {e}\")\n",
      "/opt/conda/lib/python3.10/site-packages/tensorflow_io/python/ops/__init__.py:104: UserWarning: file system plugins are not loaded: unable to open file: libtensorflow_io.so, from paths: ['/opt/conda/lib/python3.10/site-packages/tensorflow_io/python/ops/libtensorflow_io.so']\n",
      "caused by: ['/opt/conda/lib/python3.10/site-packages/tensorflow_io/python/ops/libtensorflow_io.so: undefined symbol: _ZTVN10tensorflow13GcsFileSystemE']\n",
      "  warnings.warn(f\"file system plugins are not loaded: {e}\")\n"
     ]
    },
    {
     "name": "stdout",
     "output_type": "stream",
     "text": [
      "Input shape: [18]\n"
     ]
    }
   ],
   "source": [
    "import pandas as pd\n",
    "from sklearn.preprocessing import StandardScaler, OneHotEncoder\n",
    "from sklearn.compose import make_column_transformer\n",
    "from sklearn.model_selection import GroupShuffleSplit\n",
    "\n",
    "from tensorflow import keras\n",
    "from tensorflow.keras import layers\n",
    "from tensorflow.keras import callbacks\n",
    "\n",
    "spotify = pd.read_csv('../input/dl-course-data/spotify.csv')\n",
    "\n",
    "X = spotify.copy().dropna()\n",
    "y = X.pop('track_popularity')\n",
    "artists = X['track_artist']\n",
    "\n",
    "features_num = ['danceability', 'energy', 'key', 'loudness', 'mode',\n",
    "                'speechiness', 'acousticness', 'instrumentalness',\n",
    "                'liveness', 'valence', 'tempo', 'duration_ms']\n",
    "features_cat = ['playlist_genre']\n",
    "\n",
    "preprocessor = make_column_transformer(\n",
    "    (StandardScaler(), features_num),\n",
    "    (OneHotEncoder(), features_cat),\n",
    ")\n",
    "\n",
    "# We'll do a \"grouped\" split to keep all of an artist's songs in one\n",
    "# split or the other. This is to help prevent signal leakage.\n",
    "def group_split(X, y, group, train_size=0.75):\n",
    "    splitter = GroupShuffleSplit(train_size=train_size)\n",
    "    train, test = next(splitter.split(X, y, groups=group))\n",
    "    return (X.iloc[train], X.iloc[test], y.iloc[train], y.iloc[test])\n",
    "\n",
    "X_train, X_valid, y_train, y_valid = group_split(X, y, artists)\n",
    "\n",
    "X_train = preprocessor.fit_transform(X_train)\n",
    "X_valid = preprocessor.transform(X_valid)\n",
    "y_train = y_train / 100 # popularity is on a scale 0-100, so this rescales to 0-1.\n",
    "y_valid = y_valid / 100\n",
    "\n",
    "input_shape = [X_train.shape[1]]\n",
    "print(\"Input shape: {}\".format(input_shape))"
   ]
  },
  {
   "cell_type": "markdown",
   "id": "6ed0fe48",
   "metadata": {
    "papermill": {
     "duration": 0.006037,
     "end_time": "2023-08-14T08:54:55.895809",
     "exception": false,
     "start_time": "2023-08-14T08:54:55.889772",
     "status": "completed"
    },
    "tags": []
   },
   "source": [
    "Let's start with the simplest network, a linear model. This model has low capacity.\n",
    "\n",
    "Run this next cell without any changes to train a linear model on the *Spotify* dataset."
   ]
  },
  {
   "cell_type": "code",
   "execution_count": 3,
   "id": "2edb7840",
   "metadata": {
    "execution": {
     "iopub.execute_input": "2023-08-14T08:54:55.909716Z",
     "iopub.status.busy": "2023-08-14T08:54:55.908840Z",
     "iopub.status.idle": "2023-08-14T08:55:20.128408Z",
     "shell.execute_reply": "2023-08-14T08:55:20.127481Z"
    },
    "lines_to_next_cell": 0,
    "papermill": {
     "duration": 24.228743,
     "end_time": "2023-08-14T08:55:20.130546",
     "exception": false,
     "start_time": "2023-08-14T08:54:55.901803",
     "status": "completed"
    },
    "tags": []
   },
   "outputs": [
    {
     "name": "stdout",
     "output_type": "stream",
     "text": [
      "Minimum Validation Loss: 0.1981\n"
     ]
    },
    {
     "data": {
      "image/png": "[encoded data removed]",
      "text/plain": [
       "<Figure size 640x480 with 1 Axes>"
      ]
     },
     "metadata": {},
     "output_type": "display_data"
    }
   ],
   "source": [
    "model = keras.Sequential([\n",
    "    layers.Dense(1, input_shape=input_shape),\n",
    "])\n",
    "model.compile(\n",
    "    optimizer='adam',\n",
    "    loss='mae',\n",
    ")\n",
    "history = model.fit(\n",
    "    X_train, y_train,\n",
    "    validation_data=(X_valid, y_valid),\n",
    "    batch_size=512,\n",
    "    epochs=50,\n",
    "    verbose=0, # suppress output since we'll plot the curves\n",
    ")\n",
    "history_df = pd.DataFrame(history.history)\n",
    "history_df.loc[0:, ['loss', 'val_loss']].plot()\n",
    "print(\"Minimum Validation Loss: {:0.4f}\".format(history_df['val_loss'].min()));"
   ]
  },
  {
   "cell_type": "markdown",
   "id": "ced50ea5",
   "metadata": {
    "papermill": {
     "duration": 0.006915,
     "end_time": "2023-08-14T08:55:20.144133",
     "exception": false,
     "start_time": "2023-08-14T08:55:20.137218",
     "status": "completed"
    },
    "tags": []
   },
   "source": [
    "It's not uncommon for the curves to follow a \"hockey stick\" pattern like you see here. This makes the final part of training hard to see, so let's start at epoch 10 instead:"
   ]
  },
  {
   "cell_type": "code",
   "execution_count": 4,
   "id": "72af3119",
   "metadata": {
    "execution": {
     "iopub.execute_input": "2023-08-14T08:55:20.158265Z",
     "iopub.status.busy": "2023-08-14T08:55:20.157967Z",
     "iopub.status.idle": "2023-08-14T08:55:20.604503Z",
     "shell.execute_reply": "2023-08-14T08:55:20.603397Z"
    },
    "papermill": {
     "duration": 0.456076,
     "end_time": "2023-08-14T08:55:20.606720",
     "exception": false,
     "start_time": "2023-08-14T08:55:20.150644",
     "status": "completed"
    },
    "tags": []
   },
   "outputs": [
    {
     "name": "stdout",
     "output_type": "stream",
     "text": [
      "Minimum Validation Loss: 0.1981\n"
     ]
    },
    {
     "data": {
      "image/png": "[encoded data removed]",
      "text/plain": [
       "<Figure size 640x480 with 1 Axes>"
      ]
     },
     "metadata": {},
     "output_type": "display_data"
    }
   ],
   "source": [
    "# Start the plot at epoch 10\n",
    "history_df.loc[10:, ['loss', 'val_loss']].plot()\n",
    "print(\"Minimum Validation Loss: {:0.4f}\".format(history_df['val_loss'].min()));"
   ]
  },
  {
   "cell_type": "markdown",
   "id": "b7f0c5aa",
   "metadata": {
    "papermill": {
     "duration": 0.006983,
     "end_time": "2023-08-14T08:55:20.621065",
     "exception": false,
     "start_time": "2023-08-14T08:55:20.614082",
     "status": "completed"
    },
    "tags": []
   },
   "source": [
    "# 1) Evaluate Baseline\n",
    "\n",
    "What do you think? Would you say this model is underfitting, overfitting, just right?"
   ]
  },
  {
   "cell_type": "code",
   "execution_count": 5,
   "id": "693a2c7f",
   "metadata": {
    "execution": {
     "iopub.execute_input": "2023-08-14T08:55:20.637070Z",
     "iopub.status.busy": "2023-08-14T08:55:20.636157Z",
     "iopub.status.idle": "2023-08-14T08:55:20.646331Z",
     "shell.execute_reply": "2023-08-14T08:55:20.645481Z"
    },
    "papermill": {
     "duration": 0.020412,
     "end_time": "2023-08-14T08:55:20.648527",
     "exception": false,
     "start_time": "2023-08-14T08:55:20.628115",
     "status": "completed"
    },
    "tags": []
   },
   "outputs": [
    {
     "data": {
      "application/javascript": [
       "parent.postMessage({\"jupyterEvent\": \"custom.exercise_interaction\", \"data\": {\"outcomeType\": 1, \"valueTowardsCompletion\": 0.25, \"interactionType\": 1, \"questionType\": 4, \"questionId\": \"1_Q1\", \"learnToolsVersion\": \"0.3.4\", \"failureMessage\": \"\", \"exceptionClass\": \"\", \"trace\": \"\"}}, \"*\")"
      ],
      "text/plain": [
       "<IPython.core.display.Javascript object>"
      ]
     },
     "metadata": {},
     "output_type": "display_data"
    },
    {
     "data": {
      "text/markdown": [
       "<span style=\"color:#33cc33\">Correct:</span> \n",
       "\n",
       "The gap between these curves is quite small and the validation loss never increases, so it's more likely that the network is underfitting than overfitting. It would be worth experimenting with more capacity to see if that's the case."
      ],
      "text/plain": [
       "Correct: \n",
       "\n",
       "The gap between these curves is quite small and the validation loss never increases, so it's more likely that the network is underfitting than overfitting. It would be worth experimenting with more capacity to see if that's the case."
      ]
     },
     "metadata": {},
     "output_type": "display_data"
    }
   ],
   "source": [
    "# View the solution (Run this cell to receive credit!)\n",
    "q_1.check()"
   ]
  },
  {
   "cell_type": "markdown",
   "id": "ed1563ed",
   "metadata": {
    "papermill": {
     "duration": 0.007199,
     "end_time": "2023-08-14T08:55:20.662983",
     "exception": false,
     "start_time": "2023-08-14T08:55:20.655784",
     "status": "completed"
    },
    "tags": []
   },
   "source": [
    "Now let's add some capacity to our network. We'll add three hidden layers with 128 units each. Run the next cell to train the network and see the learning curves."
   ]
  },
  {
   "cell_type": "code",
   "execution_count": 6,
   "id": "5dfae0a6",
   "metadata": {
    "execution": {
     "iopub.execute_input": "2023-08-14T08:55:20.678760Z",
     "iopub.status.busy": "2023-08-14T08:55:20.678479Z",
     "iopub.status.idle": "2023-08-14T08:55:32.637874Z",
     "shell.execute_reply": "2023-08-14T08:55:32.636929Z"
    },
    "papermill": {
     "duration": 11.969642,
     "end_time": "2023-08-14T08:55:32.639926",
     "exception": false,
     "start_time": "2023-08-14T08:55:20.670284",
     "status": "completed"
    },
    "tags": []
   },
   "outputs": [
    {
     "name": "stdout",
     "output_type": "stream",
     "text": [
      "Epoch 1/50\n",
      "48/48 [==============================] - 2s 6ms/step - loss: 0.2922 - val_loss: 0.2142\n",
      "Epoch 2/50\n",
      "48/48 [==============================] - 0s 4ms/step - loss: 0.2037 - val_loss: 0.2033\n",
      "Epoch 3/50\n",
      "48/48 [==============================] - 0s 4ms/step - loss: 0.1965 - val_loss: 0.2005\n",
      "Epoch 4/50\n",
      "48/48 [==============================] - 0s 4ms/step - loss: 0.1939 - val_loss: 0.2003\n",
      "Epoch 5/50\n",
      "48/48 [==============================] - 0s 4ms/step - loss: 0.1920 - val_loss: 0.1981\n",
      "Epoch 6/50\n",
      "48/48 [==============================] - 0s 4ms/step - loss: 0.1903 - val_loss: 0.1984\n",
      "Epoch 7/50\n",
      "48/48 [==============================] - 0s 4ms/step - loss: 0.1888 - val_loss: 0.1977\n",
      "Epoch 8/50\n",
      "48/48 [==============================] - 0s 4ms/step - loss: 0.1876 - val_loss: 0.1983\n",
      "Epoch 9/50\n",
      "48/48 [==============================] - 0s 5ms/step - loss: 0.1865 - val_loss: 0.1979\n",
      "Epoch 10/50\n",
      "48/48 [==============================] - 0s 4ms/step - loss: 0.1860 - val_loss: 0.1982\n",
      "Epoch 11/50\n",
      "48/48 [==============================] - 0s 4ms/step - loss: 0.1851 - val_loss: 0.1979\n",
      "Epoch 12/50\n",
      "48/48 [==============================] - 0s 4ms/step - loss: 0.1843 - val_loss: 0.1976\n",
      "Epoch 13/50\n",
      "48/48 [==============================] - 0s 5ms/step - loss: 0.1837 - val_loss: 0.1984\n",
      "Epoch 14/50\n",
      "48/48 [==============================] - 0s 4ms/step - loss: 0.1830 - val_loss: 0.1990\n",
      "Epoch 15/50\n",
      "48/48 [==============================] - 0s 4ms/step - loss: 0.1822 - val_loss: 0.1996\n",
      "Epoch 16/50\n",
      "48/48 [==============================] - 0s 4ms/step - loss: 0.1815 - val_loss: 0.1985\n",
      "Epoch 17/50\n",
      "48/48 [==============================] - 0s 4ms/step - loss: 0.1811 - val_loss: 0.2000\n",
      "Epoch 18/50\n",
      "48/48 [==============================] - 0s 4ms/step - loss: 0.1801 - val_loss: 0.1986\n",
      "Epoch 19/50\n",
      "48/48 [==============================] - 0s 4ms/step - loss: 0.1802 - val_loss: 0.2000\n",
      "Epoch 20/50\n",
      "48/48 [==============================] - 0s 4ms/step - loss: 0.1798 - val_loss: 0.1997\n",
      "Epoch 21/50\n",
      "48/48 [==============================] - 0s 4ms/step - loss: 0.1794 - val_loss: 0.2002\n",
      "Epoch 22/50\n",
      "48/48 [==============================] - 0s 4ms/step - loss: 0.1802 - val_loss: 0.1998\n",
      "Epoch 23/50\n",
      "48/48 [==============================] - 0s 4ms/step - loss: 0.1777 - val_loss: 0.2001\n",
      "Epoch 24/50\n",
      "48/48 [==============================] - 0s 5ms/step - loss: 0.1775 - val_loss: 0.2017\n",
      "Epoch 25/50\n",
      "48/48 [==============================] - 0s 4ms/step - loss: 0.1773 - val_loss: 0.2007\n",
      "Epoch 26/50\n",
      "48/48 [==============================] - 0s 4ms/step - loss: 0.1763 - val_loss: 0.2002\n",
      "Epoch 27/50\n",
      "48/48 [==============================] - 0s 4ms/step - loss: 0.1758 - val_loss: 0.2009\n",
      "Epoch 28/50\n",
      "48/48 [==============================] - 0s 4ms/step - loss: 0.1761 - val_loss: 0.2014\n",
      "Epoch 29/50\n",
      "48/48 [==============================] - 0s 5ms/step - loss: 0.1752 - val_loss: 0.2026\n",
      "Epoch 30/50\n",
      "48/48 [==============================] - 0s 4ms/step - loss: 0.1749 - val_loss: 0.2026\n",
      "Epoch 31/50\n",
      "48/48 [==============================] - 0s 5ms/step - loss: 0.1740 - val_loss: 0.2016\n",
      "Epoch 32/50\n",
      "48/48 [==============================] - 0s 4ms/step - loss: 0.1735 - val_loss: 0.2015\n",
      "Epoch 33/50\n",
      "48/48 [==============================] - 0s 5ms/step - loss: 0.1735 - val_loss: 0.2018\n",
      "Epoch 34/50\n",
      "48/48 [==============================] - 0s 4ms/step - loss: 0.1735 - val_loss: 0.2030\n",
      "Epoch 35/50\n",
      "48/48 [==============================] - 0s 4ms/step - loss: 0.1722 - val_loss: 0.2032\n",
      "Epoch 36/50\n",
      "48/48 [==============================] - 0s 4ms/step - loss: 0.1720 - val_loss: 0.2021\n",
      "Epoch 37/50\n",
      "48/48 [==============================] - 0s 4ms/step - loss: 0.1713 - val_loss: 0.2033\n",
      "Epoch 38/50\n",
      "48/48 [==============================] - 0s 4ms/step - loss: 0.1708 - val_loss: 0.2032\n",
      "Epoch 39/50\n",
      "48/48 [==============================] - 0s 4ms/step - loss: 0.1709 - val_loss: 0.2063\n",
      "Epoch 40/50\n",
      "48/48 [==============================] - 0s 5ms/step - loss: 0.1713 - val_loss: 0.2038\n",
      "Epoch 41/50\n",
      "48/48 [==============================] - 0s 4ms/step - loss: 0.1709 - val_loss: 0.2043\n",
      "Epoch 42/50\n",
      "48/48 [==============================] - 0s 5ms/step - loss: 0.1692 - val_loss: 0.2035\n",
      "Epoch 43/50\n",
      "48/48 [==============================] - 0s 4ms/step - loss: 0.1684 - val_loss: 0.2046\n",
      "Epoch 44/50\n",
      "48/48 [==============================] - 0s 5ms/step - loss: 0.1680 - val_loss: 0.2044\n",
      "Epoch 45/50\n",
      "48/48 [==============================] - 0s 4ms/step - loss: 0.1677 - val_loss: 0.2042\n",
      "Epoch 46/50\n",
      "48/48 [==============================] - 0s 4ms/step - loss: 0.1673 - val_loss: 0.2051\n",
      "Epoch 47/50\n",
      "48/48 [==============================] - 0s 5ms/step - loss: 0.1669 - val_loss: 0.2058\n",
      "Epoch 48/50\n",
      "48/48 [==============================] - 0s 5ms/step - loss: 0.1670 - val_loss: 0.2062\n",
      "Epoch 49/50\n",
      "48/48 [==============================] - 0s 4ms/step - loss: 0.1658 - val_loss: 0.2046\n",
      "Epoch 50/50\n",
      "48/48 [==============================] - 0s 4ms/step - loss: 0.1661 - val_loss: 0.2068\n",
      "Minimum Validation Loss: 0.1976\n"
     ]
    },
    {
     "data": {
      "image/png": "[encoded data removed]",
      "text/plain": [
       "<Figure size 640x480 with 1 Axes>"
      ]
     },
     "metadata": {},
     "output_type": "display_data"
    }
   ],
   "source": [
    "model = keras.Sequential([\n",
    "    layers.Dense(128, activation='relu', input_shape=input_shape),\n",
    "    layers.Dense(64, activation='relu'),\n",
    "    layers.Dense(1)\n",
    "])\n",
    "model.compile(\n",
    "    optimizer='adam',\n",
    "    loss='mae',\n",
    ")\n",
    "history = model.fit(\n",
    "    X_train, y_train,\n",
    "    validation_data=(X_valid, y_valid),\n",
    "    batch_size=512,\n",
    "    epochs=50,\n",
    ")\n",
    "history_df = pd.DataFrame(history.history)\n",
    "history_df.loc[:, ['loss', 'val_loss']].plot()\n",
    "print(\"Minimum Validation Loss: {:0.4f}\".format(history_df['val_loss'].min()));"
   ]
  },
  {
   "cell_type": "markdown",
   "id": "bf3c90ba",
   "metadata": {
    "papermill": {
     "duration": 0.030765,
     "end_time": "2023-08-14T08:55:32.698411",
     "exception": false,
     "start_time": "2023-08-14T08:55:32.667646",
     "status": "completed"
    },
    "tags": []
   },
   "source": [
    "# 2) Add Capacity\n",
    "\n",
    "What is your evaluation of these curves? Underfitting, overfitting, just right?"
   ]
  },
  {
   "cell_type": "code",
   "execution_count": 7,
   "id": "f6c0fe82",
   "metadata": {
    "execution": {
     "iopub.execute_input": "2023-08-14T08:55:32.753987Z",
     "iopub.status.busy": "2023-08-14T08:55:32.753645Z",
     "iopub.status.idle": "2023-08-14T08:55:32.761397Z",
     "shell.execute_reply": "2023-08-14T08:55:32.760544Z"
    },
    "papermill": {
     "duration": 0.03737,
     "end_time": "2023-08-14T08:55:32.763361",
     "exception": false,
     "start_time": "2023-08-14T08:55:32.725991",
     "status": "completed"
    },
    "tags": []
   },
   "outputs": [
    {
     "data": {
      "application/javascript": [
       "parent.postMessage({\"jupyterEvent\": \"custom.exercise_interaction\", \"data\": {\"outcomeType\": 1, \"valueTowardsCompletion\": 0.25, \"interactionType\": 1, \"questionType\": 4, \"questionId\": \"2_Q2\", \"learnToolsVersion\": \"0.3.4\", \"failureMessage\": \"\", \"exceptionClass\": \"\", \"trace\": \"\"}}, \"*\")"
      ],
      "text/plain": [
       "<IPython.core.display.Javascript object>"
      ]
     },
     "metadata": {},
     "output_type": "display_data"
    },
    {
     "data": {
      "text/markdown": [
       "<span style=\"color:#33cc33\">Correct:</span> \n",
       "\n",
       "Now the validation loss begins to rise very early, while the training loss continues to decrease. This indicates that the network has begun to overfit. At this point, we would need to try something to prevent it, either by reducing the number of units or through a method like early stopping. (We'll see another in the next lesson!)"
      ],
      "text/plain": [
       "Correct: \n",
       "\n",
       "Now the validation loss begins to rise very early, while the training loss continues to decrease. This indicates that the network has begun to overfit. At this point, we would need to try something to prevent it, either by reducing the number of units or through a method like early stopping. (We'll see another in the next lesson!)"
      ]
     },
     "metadata": {},
     "output_type": "display_data"
    }
   ],
   "source": [
    "# View the solution (Run this cell to receive credit!)\n",
    "q_2.check()"
   ]
  },
  {
   "cell_type": "markdown",
   "id": "ba8ad525",
   "metadata": {
    "papermill": {
     "duration": 0.02647,
     "end_time": "2023-08-14T08:55:32.816537",
     "exception": false,
     "start_time": "2023-08-14T08:55:32.790067",
     "status": "completed"
    },
    "tags": []
   },
   "source": [
    "# 3) Define Early Stopping Callback\n",
    "\n",
    "Now define an early stopping callback that waits 5 epochs (`patience'`) for a change in validation loss of at least `0.001` (`min_delta`) and keeps the weights with the best loss (`restore_best_weights`)."
   ]
  },
  {
   "cell_type": "code",
   "execution_count": 8,
   "id": "9aabdef1",
   "metadata": {
    "execution": {
     "iopub.execute_input": "2023-08-14T08:55:32.873672Z",
     "iopub.status.busy": "2023-08-14T08:55:32.873064Z",
     "iopub.status.idle": "2023-08-14T08:55:32.881942Z",
     "shell.execute_reply": "2023-08-14T08:55:32.880927Z"
    },
    "lines_to_next_cell": 0,
    "papermill": {
     "duration": 0.042543,
     "end_time": "2023-08-14T08:55:32.885353",
     "exception": false,
     "start_time": "2023-08-14T08:55:32.842810",
     "status": "completed"
    },
    "tags": []
   },
   "outputs": [
    {
     "data": {
      "application/javascript": [
       "parent.postMessage({\"jupyterEvent\": \"custom.exercise_interaction\", \"data\": {\"outcomeType\": 1, \"valueTowardsCompletion\": 0.25, \"interactionType\": 1, \"questionType\": 2, \"questionId\": \"3_Q3\", \"learnToolsVersion\": \"0.3.4\", \"failureMessage\": \"\", \"exceptionClass\": \"\", \"trace\": \"\"}}, \"*\")"
      ],
      "text/plain": [
       "<IPython.core.display.Javascript object>"
      ]
     },
     "metadata": {},
     "output_type": "display_data"
    },
    {
     "data": {
      "text/markdown": [
       "<span style=\"color:#33cc33\">Correct</span>"
      ],
      "text/plain": [
       "Correct"
      ]
     },
     "metadata": {},
     "output_type": "display_data"
    }
   ],
   "source": [
    "from tensorflow.keras import callbacks\n",
    "\n",
    "# YOUR CODE HERE: define an early stopping callback\n",
    "early_stopping = early_stopping = callbacks.EarlyStopping(\n",
    "    patience=5,\n",
    "    min_delta=0.001,\n",
    "    restore_best_weights=True,\n",
    ")\n",
    "\n",
    "# Check your answer\n",
    "q_3.check()"
   ]
  },
  {
   "cell_type": "code",
   "execution_count": 9,
   "id": "e3cbc5e6",
   "metadata": {
    "execution": {
     "iopub.execute_input": "2023-08-14T08:55:32.940378Z",
     "iopub.status.busy": "2023-08-14T08:55:32.940079Z",
     "iopub.status.idle": "2023-08-14T08:55:32.945418Z",
     "shell.execute_reply": "2023-08-14T08:55:32.944492Z"
    },
    "papermill": {
     "duration": 0.035461,
     "end_time": "2023-08-14T08:55:32.947451",
     "exception": false,
     "start_time": "2023-08-14T08:55:32.911990",
     "status": "completed"
    },
    "tags": []
   },
   "outputs": [],
   "source": [
    "# Lines below will give you a hint or solution code\n",
    "#q_3.hint()\n",
    "#q_3.solution()"
   ]
  },
  {
   "cell_type": "markdown",
   "id": "93418c76",
   "metadata": {
    "papermill": {
     "duration": 0.026386,
     "end_time": "2023-08-14T08:55:33.000727",
     "exception": false,
     "start_time": "2023-08-14T08:55:32.974341",
     "status": "completed"
    },
    "tags": []
   },
   "source": [
    "Now run this cell to train the model and get the learning curves. Notice the `callbacks` argument in `model.fit`."
   ]
  },
  {
   "cell_type": "code",
   "execution_count": 10,
   "id": "8b26a2c5",
   "metadata": {
    "execution": {
     "iopub.execute_input": "2023-08-14T08:55:33.055533Z",
     "iopub.status.busy": "2023-08-14T08:55:33.055234Z",
     "iopub.status.idle": "2023-08-14T08:55:39.152037Z",
     "shell.execute_reply": "2023-08-14T08:55:39.150533Z"
    },
    "papermill": {
     "duration": 6.126544,
     "end_time": "2023-08-14T08:55:39.154100",
     "exception": false,
     "start_time": "2023-08-14T08:55:33.027556",
     "status": "completed"
    },
    "tags": []
   },
   "outputs": [
    {
     "name": "stdout",
     "output_type": "stream",
     "text": [
      "Epoch 1/50\n",
      "48/48 [==============================] - 1s 6ms/step - loss: 0.2236 - val_loss: 0.2080\n",
      "Epoch 2/50\n",
      "48/48 [==============================] - 0s 6ms/step - loss: 0.1994 - val_loss: 0.2037\n",
      "Epoch 3/50\n",
      "48/48 [==============================] - 0s 4ms/step - loss: 0.1946 - val_loss: 0.2009\n",
      "Epoch 4/50\n",
      "48/48 [==============================] - 0s 4ms/step - loss: 0.1915 - val_loss: 0.2016\n",
      "Epoch 5/50\n",
      "48/48 [==============================] - 0s 4ms/step - loss: 0.1895 - val_loss: 0.2007\n",
      "Epoch 6/50\n",
      "48/48 [==============================] - 0s 4ms/step - loss: 0.1879 - val_loss: 0.2007\n",
      "Epoch 7/50\n",
      "48/48 [==============================] - 0s 4ms/step - loss: 0.1863 - val_loss: 0.2000\n",
      "Epoch 8/50\n",
      "48/48 [==============================] - 0s 5ms/step - loss: 0.1856 - val_loss: 0.1999\n",
      "Epoch 9/50\n",
      "48/48 [==============================] - 0s 4ms/step - loss: 0.1849 - val_loss: 0.2031\n",
      "Epoch 10/50\n",
      "48/48 [==============================] - 0s 4ms/step - loss: 0.1839 - val_loss: 0.1988\n",
      "Epoch 11/50\n",
      "48/48 [==============================] - 0s 4ms/step - loss: 0.1824 - val_loss: 0.2003\n",
      "Epoch 12/50\n",
      "48/48 [==============================] - 0s 4ms/step - loss: 0.1821 - val_loss: 0.1997\n",
      "Epoch 13/50\n",
      "48/48 [==============================] - 0s 4ms/step - loss: 0.1816 - val_loss: 0.2007\n",
      "Epoch 14/50\n",
      "48/48 [==============================] - 0s 4ms/step - loss: 0.1809 - val_loss: 0.2014\n",
      "Epoch 15/50\n",
      "48/48 [==============================] - 0s 4ms/step - loss: 0.1795 - val_loss: 0.2007\n",
      "Minimum Validation Loss: 0.1988\n"
     ]
    },
    {
     "data": {
      "image/png": "[encoded data removed]",
      "text/plain": [
       "<Figure size 640x480 with 1 Axes>"
      ]
     },
     "metadata": {},
     "output_type": "display_data"
    }
   ],
   "source": [
    "model = keras.Sequential([\n",
    "    layers.Dense(128, activation='relu', input_shape=input_shape),\n",
    "    layers.Dense(64, activation='relu'),    \n",
    "    layers.Dense(1)\n",
    "])\n",
    "model.compile(\n",
    "    optimizer='adam',\n",
    "    loss='mae',\n",
    ")\n",
    "history = model.fit(\n",
    "    X_train, y_train,\n",
    "    validation_data=(X_valid, y_valid),\n",
    "    batch_size=512,\n",
    "    epochs=50,\n",
    "    callbacks=[early_stopping]\n",
    ")\n",
    "history_df = pd.DataFrame(history.history)\n",
    "history_df.loc[:, ['loss', 'val_loss']].plot()\n",
    "print(\"Minimum Validation Loss: {:0.4f}\".format(history_df['val_loss'].min()));"
   ]
  },
  {
   "cell_type": "markdown",
   "id": "a9784872",
   "metadata": {
    "papermill": {
     "duration": 0.03252,
     "end_time": "2023-08-14T08:55:39.219685",
     "exception": false,
     "start_time": "2023-08-14T08:55:39.187165",
     "status": "completed"
    },
    "tags": []
   },
   "source": [
    "# 4) Train and Interpret\n",
    "\n",
    "Was this an improvement compared to training without early stopping?"
   ]
  },
  {
   "cell_type": "code",
   "execution_count": 11,
   "id": "3828e901",
   "metadata": {
    "execution": {
     "iopub.execute_input": "2023-08-14T08:55:39.288377Z",
     "iopub.status.busy": "2023-08-14T08:55:39.288022Z",
     "iopub.status.idle": "2023-08-14T08:55:39.295704Z",
     "shell.execute_reply": "2023-08-14T08:55:39.294826Z"
    },
    "papermill": {
     "duration": 0.044395,
     "end_time": "2023-08-14T08:55:39.297566",
     "exception": false,
     "start_time": "2023-08-14T08:55:39.253171",
     "status": "completed"
    },
    "tags": []
   },
   "outputs": [
    {
     "data": {
      "application/javascript": [
       "parent.postMessage({\"jupyterEvent\": \"custom.exercise_interaction\", \"data\": {\"outcomeType\": 1, \"valueTowardsCompletion\": 0.25, \"interactionType\": 1, \"questionType\": 4, \"questionId\": \"4_Q4\", \"learnToolsVersion\": \"0.3.4\", \"failureMessage\": \"\", \"exceptionClass\": \"\", \"trace\": \"\"}}, \"*\")"
      ],
      "text/plain": [
       "<IPython.core.display.Javascript object>"
      ]
     },
     "metadata": {},
     "output_type": "display_data"
    },
    {
     "data": {
      "text/markdown": [
       "<span style=\"color:#33cc33\">Correct:</span> \n",
       "\n",
       "The early stopping callback did stop the training once the network began overfitting. Moreover, by including `restore_best_weights` we still get to keep the model where validation loss was lowest."
      ],
      "text/plain": [
       "Correct: \n",
       "\n",
       "The early stopping callback did stop the training once the network began overfitting. Moreover, by including `restore_best_weights` we still get to keep the model where validation loss was lowest."
      ]
     },
     "metadata": {},
     "output_type": "display_data"
    }
   ],
   "source": [
    "# View the solution (Run this cell to receive credit!)\n",
    "q_4.check()"
   ]
  },
  {
   "cell_type": "markdown",
   "id": "db1b010e",
   "metadata": {
    "papermill": {
     "duration": 0.032855,
     "end_time": "2023-08-14T08:55:39.364945",
     "exception": false,
     "start_time": "2023-08-14T08:55:39.332090",
     "status": "completed"
    },
    "tags": []
   },
   "source": [
    "If you like, try experimenting with `patience` and `min_delta` to see what difference it might make.\n",
    "\n",
    "# Keep Going #\n",
    "\n",
    "Move on to [**learn about a couple of special layers**](https://www.kaggle.com/ryanholbrook/dropout-and-batch-normalization): batch normalization and dropout."
   ]
  },
  {
   "cell_type": "markdown",
   "id": "2aa20ce3",
   "metadata": {
    "papermill": {
     "duration": 0.033033,
     "end_time": "2023-08-14T08:55:39.431334",
     "exception": false,
     "start_time": "2023-08-14T08:55:39.398301",
     "status": "completed"
    },
    "tags": []
   },
   "source": [
    "---\n",
    "\n",
    "\n",
    "\n",
    "\n",
    "*Have questions or comments? Visit the [course discussion forum](https://www.kaggle.com/learn/intro-to-deep-learning/discussion) to chat with other learners.*"
   ]
  }
 ],
 "metadata": {
  "kernelspec": {
   "display_name": "Python 3",
   "language": "python",
   "name": "python3"
  },
  "language_info": {
   "codemirror_mode": {
    "name": "ipython",
    "version": 3
   },
   "file_extension": ".py",
   "mimetype": "text/x-python",
   "name": "python",
   "nbconvert_exporter": "python",
   "pygments_lexer": "ipython3",
   "version": "3.10.12"
  },
  "papermill": {
   "default_parameters": {},
   "duration": 65.70754,
   "end_time": "2023-08-14T08:55:42.153650",
   "environment_variables": {},
   "exception": null,
   "input_path": "__notebook__.ipynb",
   "output_path": "__notebook__.ipynb",
   "parameters": {},
   "start_time": "2023-08-14T08:54:36.446110",
   "version": "2.4.0"
  }
 },
 "nbformat": 4,
 "nbformat_minor": 5
}
